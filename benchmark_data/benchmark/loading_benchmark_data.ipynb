{
 "cells": [
  {
   "cell_type": "markdown",
   "id": "e216c73a-8d87-4399-a380-c815b04e4244",
   "metadata": {},
   "source": [
    "# Loading the benchmark data and queries\n",
    "\n",
    "* LSQB\n",
    "* SNAP\n",
    "* JOB\n",
    "* STATS\n",
    "* HETIO"
   ]
  },
  {
   "cell_type": "markdown",
   "id": "032793ce-eb0b-4c86-9524-b34553603b40",
   "metadata": {},
   "source": [
    "## Create the DB users"
   ]
  },
  {
   "cell_type": "code",
   "execution_count": 1,
   "id": "b717d04a-34ac-44b6-82e9-e0bbd88f9429",
   "metadata": {},
   "outputs": [
    {
     "name": "stderr",
     "output_type": "stream",
     "text": [
      "ERROR:  role \"lsqb\" already exists\n",
      "ERROR:  database \"lsqb\" already exists\n"
     ]
    },
    {
     "name": "stdout",
     "output_type": "stream",
     "text": [
      "GRANT\n",
      "You are now connected to database \"lsqb\" as user \"postgres\".\n",
      "GRANT\n"
     ]
    },
    {
     "name": "stderr",
     "output_type": "stream",
     "text": [
      "ERROR:  role \"snap\" already exists\n",
      "ERROR:  database \"snap\" already exists\n"
     ]
    },
    {
     "name": "stdout",
     "output_type": "stream",
     "text": [
      "GRANT\n",
      "You are now connected to database \"snap\" as user \"postgres\".\n",
      "GRANT\n"
     ]
    },
    {
     "name": "stderr",
     "output_type": "stream",
     "text": [
      "ERROR:  role \"tpcds\" already exists\n",
      "ERROR:  database \"tpcds\" already exists\n"
     ]
    },
    {
     "name": "stdout",
     "output_type": "stream",
     "text": [
      "GRANT\n",
      "You are now connected to database \"tpcds\" as user \"postgres\".\n",
      "GRANT\n"
     ]
    },
    {
     "name": "stderr",
     "output_type": "stream",
     "text": [
      "ERROR:  role \"tpch\" already exists\n",
      "ERROR:  database \"tpch\" already exists\n"
     ]
    },
    {
     "name": "stdout",
     "output_type": "stream",
     "text": [
      "GRANT\n",
      "You are now connected to database \"tpch\" as user \"postgres\".\n",
      "GRANT\n"
     ]
    },
    {
     "name": "stderr",
     "output_type": "stream",
     "text": [
      "ERROR:  role \"imdb\" already exists\n",
      "ERROR:  database \"imdb\" already exists\n"
     ]
    },
    {
     "name": "stdout",
     "output_type": "stream",
     "text": [
      "GRANT\n",
      "You are now connected to database \"imdb\" as user \"postgres\".\n",
      "GRANT\n"
     ]
    },
    {
     "name": "stderr",
     "output_type": "stream",
     "text": [
      "ERROR:  role \"stats\" already exists\n",
      "ERROR:  database \"stats\" already exists\n"
     ]
    },
    {
     "name": "stdout",
     "output_type": "stream",
     "text": [
      "GRANT\n",
      "You are now connected to database \"stats\" as user \"postgres\".\n",
      "GRANT\n",
      "CREATE ROLE\n",
      "CREATE DATABASE\n",
      "GRANT\n",
      "You are now connected to database \"hetio\" as user \"postgres\".\n",
      "GRANT\n"
     ]
    }
   ],
   "source": [
    "%%bash\n",
    "\n",
    "export PGPASSWORD=postgres\n",
    "\n",
    "create_db() {\n",
    "cat <<EOF\n",
    "        create user $1 with password '$1';\n",
    "        create database $1;\n",
    "        grant all privileges on database $1 to $1;\n",
    "        \\c $1 postgres\n",
    "        grant all on schema public to $1;\n",
    "EOF\n",
    "}\n",
    "\n",
    "dbnames=(lsqb snap tpcds tpch)\n",
    "\n",
    "psql --host=postgres --username postgres --dbname postgres <<-EOSQL\n",
    "        $(create_db lsqb)\n",
    "        $(create_db snap)\n",
    "        $(create_db tpcds)\n",
    "        $(create_db tpch)\n",
    "        $(create_db imdb)\n",
    "        $(create_db stats)\n",
    "        $(create_db hetio)\n",
    "EOSQL"
   ]
  },
  {
   "cell_type": "markdown",
   "id": "e50f5d83-1b21-4f99-9482-1089e2c25123",
   "metadata": {},
   "source": [
    "# LSQB"
   ]
  },
  {
   "cell_type": "markdown",
   "id": "4ffd1ec3-37f2-48cb-aa3d-37b44a3d0392",
   "metadata": {},
   "source": [
    "## Fetch LSQB data"
   ]
  },
  {
   "cell_type": "markdown",
   "id": "c9e62a19-9a3f-402b-8448-e0cfcfd70ed8",
   "metadata": {},
   "source": [
    "You either can download one LSQB dataset, deciding which scale factor you want or a lot of different ones. Both methods are provided here.  \n",
    "\n",
    "Only load one dataset with scale factor SF (here = 1)"
   ]
  },
  {
   "cell_type": "code",
   "execution_count": 2,
   "id": "5b332a07-0995-4896-a054-0d3490f42385",
   "metadata": {},
   "outputs": [],
   "source": [
    "!chmod +x lsqb/scripts/download-merged-fk-single-data-set.sh"
   ]
  },
  {
   "cell_type": "code",
   "execution_count": 3,
   "id": "4ccdfe70-e038-49c9-965e-d282f3af24e2",
   "metadata": {},
   "outputs": [
    {
     "name": "stdout",
     "output_type": "stream",
     "text": [
      "Downloading scale factor 1\n"
     ]
    }
   ],
   "source": [
    "%%bash\n",
    "cd lsqb\n",
    "export SF=1\n",
    "./scripts/download-merged-fk-single-data-set.sh\n",
    "cd .."
   ]
  },
  {
   "cell_type": "markdown",
   "id": "1e90c0aa-d89d-4e93-844d-dcb4e673676d",
   "metadata": {},
   "source": [
    "Downloading the LSQB data for different scale factors: 0.1, 0.3, 1, 3, 10, 30, 100, 300, 1000"
   ]
  },
  {
   "cell_type": "code",
   "execution_count": 4,
   "id": "2d0604ac-9d3b-4fab-858e-a67f0394f286",
   "metadata": {},
   "outputs": [],
   "source": [
    "#!chmod +x lsqb/scripts/download-merged-fk-data-sets.sh"
   ]
  },
  {
   "cell_type": "code",
   "execution_count": 5,
   "id": "d6a03a47-1774-4b71-a096-1371de730f10",
   "metadata": {},
   "outputs": [],
   "source": [
    "#%%bash\n",
    "#cd lsqb\n",
    "#export MAX_SF=300\n",
    "#./scripts/download-merged-fk-data-sets.sh\n",
    "#cd .."
   ]
  },
  {
   "cell_type": "markdown",
   "id": "fba27672-bc04-40fe-95f0-2c6989a6a3cd",
   "metadata": {},
   "source": [
    "## Import the LSQB benchmark data"
   ]
  },
  {
   "cell_type": "markdown",
   "id": "577b259e-2bbc-4b6e-957b-821b2cb2f54f",
   "metadata": {},
   "source": [
    "Import the benchmark data for scale factor 1"
   ]
  },
  {
   "cell_type": "code",
   "execution_count": 6,
   "id": "ffe1fc2f-a496-44d3-b572-c253205826ae",
   "metadata": {},
   "outputs": [],
   "source": [
    "!chmod +x import-lsqb.sh"
   ]
  },
  {
   "cell_type": "code",
   "execution_count": 7,
   "id": "084ad51a-7481-4a4d-8add-52f75485dc36",
   "metadata": {
    "scrolled": true
   },
   "outputs": [
    {
     "name": "stdout",
     "output_type": "stream",
     "text": [
      "DROP VIEW\n",
      "DROP VIEW\n",
      "DROP VIEW\n",
      "DROP VIEW\n",
      "DROP VIEW\n",
      "DROP VIEW\n",
      "DROP TABLE\n",
      "DROP TABLE\n",
      "DROP TABLE\n",
      "DROP TABLE\n",
      "DROP TABLE\n",
      "DROP TABLE\n",
      "DROP TABLE\n",
      "DROP TABLE\n",
      "DROP TABLE\n",
      "DROP TABLE\n",
      "DROP TABLE\n",
      "DROP TABLE\n",
      "DROP TABLE\n",
      "DROP TABLE\n",
      "DROP TABLE\n",
      "DROP TABLE\n",
      "DROP TABLE\n",
      "DROP TABLE\n",
      "DROP TABLE\n",
      "DROP TABLE\n",
      "DROP TABLE\n",
      "CREATE TABLE\n",
      "CREATE TABLE\n",
      "CREATE TABLE\n",
      "CREATE TABLE\n",
      "CREATE TABLE\n",
      "CREATE TABLE\n",
      "CREATE TABLE\n",
      "CREATE TABLE\n",
      "CREATE TABLE\n",
      "CREATE TABLE\n",
      "CREATE TABLE\n",
      "CREATE TABLE\n",
      "CREATE TABLE\n",
      "CREATE TABLE\n",
      "CREATE TABLE\n",
      "CREATE TABLE\n",
      "CREATE TABLE\n",
      "CREATE TABLE\n",
      "CREATE TABLE\n",
      "CREATE TABLE\n",
      "CREATE TABLE\n",
      "COPY 1575\n",
      "COPY 6380\n",
      "COPY 6\n",
      "COPY 111\n",
      "COPY 1343\n",
      "COPY 109617\n",
      "COPY 2580332\n",
      "COPY 1229275\n",
      "COPY 11000\n",
      "COPY 16080\n",
      "COPY 71\n",
      "COPY 3148317\n",
      "COPY 815205\n",
      "COPY 3268415\n",
      "COPY 354213\n",
      "COPY 255596\n",
      "COPY 1668015\n",
      "COPY 853145\n",
      "COPY 8880\n",
      "COPY 23600\n",
      "COPY 226293\n",
      "COPY 226293\n",
      "CREATE VIEW\n",
      "CREATE VIEW\n",
      "CREATE VIEW\n",
      "CREATE VIEW\n",
      "CREATE VIEW\n",
      "CREATE VIEW\n"
     ]
    }
   ],
   "source": [
    "%%bash\n",
    "export SF=1\n",
    "./import-lsqb.sh"
   ]
  },
  {
   "cell_type": "markdown",
   "id": "cdc68a5a-e8d7-401b-ae90-ca453297cb7a",
   "metadata": {},
   "source": [
    "# SNAP"
   ]
  },
  {
   "cell_type": "markdown",
   "id": "78076a59-e13a-4bb1-a431-cb4029d271ed",
   "metadata": {},
   "source": [
    "## Fetch the SNAP data"
   ]
  },
  {
   "cell_type": "code",
   "execution_count": 14,
   "id": "b8a64742-ad74-4539-bf4e-2695c0cab012",
   "metadata": {},
   "outputs": [],
   "source": [
    "!chmod +x snap/remove-header.sh"
   ]
  },
  {
   "cell_type": "code",
   "execution_count": 15,
   "id": "3490e426-11cf-4a47-ae0b-4a47fd6718ca",
   "metadata": {},
   "outputs": [
    {
     "name": "stderr",
     "output_type": "stream",
     "text": [
      "  % Total    % Received % Xferd  Average Speed   Time    Time     Time  Current\n",
      "                                 Dload  Upload   Total   Spent    Left  Speed\n",
      "100 81.1M  100 81.1M    0     0   442k      0  0:03:07  0:03:07 --:--:--  505k\n",
      "  % Total    % Received % Xferd  Average Speed   Time    Time     Time  Current\n",
      "                                 Dload  Upload   Total   Spent    Left  Speed\n",
      "100 95.1M  100 95.1M    0     0   534k      0  0:03:02  0:03:02 --:--:--  473k\n",
      "  % Total    % Received % Xferd  Average Speed   Time    Time     Time  Current\n",
      "                                 Dload  Upload   Total   Spent    Left  Speed\n",
      "100 20.1M  100 20.1M    0     0   497k      0  0:00:41  0:00:41 --:--:--  966k\n",
      "  % Total    % Received % Xferd  Average Speed   Time    Time     Time  Current\n",
      "                                 Dload  Upload   Total   Spent    Left  Speed\n",
      "100 4041k  100 4041k    0     0   267k      0  0:00:15  0:00:15 --:--:--  304k\n"
     ]
    }
   ],
   "source": [
    "%%bash\n",
    "\n",
    "datasets=(\"http://snap.stanford.edu/data/cit-Patents.txt.gz\"\n",
    "          \"http://snap.stanford.edu/data/wiki-topcats.txt.gz\"\n",
    "          \"http://snap.stanford.edu/data/web-Google.txt.gz\"\n",
    "          \"http://snap.stanford.edu/data/bigdata/communities/com-dblp.ungraph.txt.gz\")\n",
    "\n",
    "cd snap\n",
    "\n",
    "for d in ${datasets[*]}; do\n",
    "    if [ ! -f $(basename $d) ]; then\n",
    "        curl -O $d;\n",
    "        gunzip $(basename $d)\n",
    "    else\n",
    "        echo \"$(basename $d) exists\"\n",
    "    fi\n",
    "done\n",
    "\n",
    "./remove-header.sh\n",
    "\n",
    "cd .."
   ]
  },
  {
   "cell_type": "markdown",
   "id": "ab415533-85c5-42d8-ac95-2ee758af0674",
   "metadata": {},
   "source": [
    "## Import the SNAP data"
   ]
  },
  {
   "cell_type": "code",
   "execution_count": 16,
   "id": "88da5b05-2f35-4001-9c7e-2d436ac54034",
   "metadata": {},
   "outputs": [
    {
     "name": "stdout",
     "output_type": "stream",
     "text": [
      "Overwriting import-snap.sql\n"
     ]
    }
   ],
   "source": [
    "%%writefile import-snap.sql\n",
    "\n",
    "DROP TABLE IF EXISTS patents;\n",
    "CREATE TABLE patents (fromNode integer, toNode integer);\n",
    "\\copy patents FROM 'snap/noheader/cit-Patents.txt' with (header false);\n",
    "\n",
    "DROP TABLE IF EXISTS wiki;\n",
    "CREATE TABLE wiki (fromNode integer, toNode integer);\n",
    "\\copy wiki FROM 'snap/noheader/wiki-topcats.txt' with (header false, delimiter ' ');\n",
    "\n",
    "DROP TABLE IF EXISTS google;\n",
    "CREATE TABLE google (fromNode integer, toNode integer);\n",
    "\\copy google FROM 'snap/noheader/web-Google.txt' with (header false);\n",
    "\n",
    "DROP TABLE IF EXISTS dblp;\n",
    "CREATE TABLE dblp (fromNode integer, toNode integer);\n",
    "\\copy dblp FROM 'snap/noheader/com-dblp.ungraph.txt' with (header false);"
   ]
  },
  {
   "cell_type": "code",
   "execution_count": 17,
   "id": "96ba4047-28b3-4ff3-b2e6-27969da86cce",
   "metadata": {},
   "outputs": [
    {
     "name": "stderr",
     "output_type": "stream",
     "text": [
      "psql:import-snap.sql:2: NOTICE:  table \"patents\" does not exist, skipping\n"
     ]
    },
    {
     "name": "stdout",
     "output_type": "stream",
     "text": [
      "DROP TABLE\n",
      "CREATE TABLE\n",
      "COPY 16518948\n"
     ]
    },
    {
     "name": "stderr",
     "output_type": "stream",
     "text": [
      "psql:import-snap.sql:6: NOTICE:  table \"wiki\" does not exist, skipping\n"
     ]
    },
    {
     "name": "stdout",
     "output_type": "stream",
     "text": [
      "DROP TABLE\n",
      "CREATE TABLE\n",
      "COPY 28511807\n"
     ]
    },
    {
     "name": "stderr",
     "output_type": "stream",
     "text": [
      "psql:import-snap.sql:10: NOTICE:  table \"google\" does not exist, skipping\n"
     ]
    },
    {
     "name": "stdout",
     "output_type": "stream",
     "text": [
      "DROP TABLE\n",
      "CREATE TABLE\n",
      "COPY 5105039\n"
     ]
    },
    {
     "name": "stderr",
     "output_type": "stream",
     "text": [
      "psql:import-snap.sql:14: NOTICE:  table \"dblp\" does not exist, skipping\n"
     ]
    },
    {
     "name": "stdout",
     "output_type": "stream",
     "text": [
      "DROP TABLE\n",
      "CREATE TABLE\n",
      "COPY 1049866\n"
     ]
    }
   ],
   "source": [
    "%%bash\n",
    "\n",
    "PGPASSWORD=snap psql -h postgres -U snap -d snap -f import-snap.sql"
   ]
  },
  {
   "cell_type": "markdown",
   "id": "76e3001c-296a-4810-becd-1c9610de2d67",
   "metadata": {},
   "source": [
    "## Generate SNAP queries"
   ]
  },
  {
   "cell_type": "code",
   "execution_count": 33,
   "id": "ad4a7ce6-64b2-4c76-9e4b-9ff77c9b3583",
   "metadata": {},
   "outputs": [],
   "source": [
    "import glob\n",
    "from pathlib import Path\n",
    "\n",
    "snap_tables = ['patents', 'wiki', 'google', 'dblp']\n",
    "\n",
    "Path(f'snap-queries/all').mkdir(parents=True, exist_ok=True)\n",
    "for tablename in snap_tables:\n",
    "    Path(f'snap-queries/{tablename}').mkdir(parents=True, exist_ok=True)\n",
    "    # We use the patent queries as the base and replace the references to the patent relation\n",
    "    base_query_files = glob.glob('snap-queries/patents/*.sql')\n",
    "    for file in base_query_files:\n",
    "        query = Path(file).read_text()\n",
    "        basename = Path(file).name\n",
    "        new_query = query.replace('patents', tablename)\n",
    "        with open(f'snap-queries/{tablename}/{basename}', 'w') as new_file:\n",
    "            new_file.write(new_query)\n",
    "        with open(f'snap-queries/all/{tablename}-{basename}', 'w') as new_file:\n",
    "            new_file.write(new_query)"
   ]
  },
  {
   "cell_type": "markdown",
   "id": "4591e590-f0d7-4c17-a7de-b857be068b76",
   "metadata": {},
   "source": [
    "# JOB"
   ]
  },
  {
   "cell_type": "markdown",
   "id": "c04e0969-873a-4ee5-9841-11d5e5cda96b",
   "metadata": {},
   "source": [
    "## Import the JOB/IMDB data"
   ]
  },
  {
   "cell_type": "code",
   "execution_count": 4,
   "id": "d24de335-5fcc-42ef-bfa3-af132cf26776",
   "metadata": {},
   "outputs": [],
   "source": [
    "%%bash\n",
    "cd job\n",
    "tar -xzf export.sql.tar.gz"
   ]
  },
  {
   "cell_type": "code",
   "execution_count": 3,
   "id": "2fe97450-cee6-4891-be44-a29b435f6a91",
   "metadata": {},
   "outputs": [
    {
     "name": "stdout",
     "output_type": "stream",
     "text": [
      "\n",
      "CREATE INDEX title_idx_kindid ON public.title USING btree (kind_id);\n",
      "\n",
      "\n",
      "--\n",
      "-- Name: title_idx_md5; Type: INDEX; Schema: public; Owner: imdb\n",
      "--\n",
      "\n",
      "CREATE INDEX title_idx_md5 ON public.title USING btree (md5sum);\n",
      "\n",
      "\n",
      "--\n",
      "-- Name: title_idx_pcode; Type: INDEX; Schema: public; Owner: imdb\n",
      "--\n",
      "\n",
      "CREATE INDEX title_idx_pcode ON public.title USING btree (phonetic_code);\n",
      "\n",
      "\n",
      "--\n",
      "-- Name: title_idx_season_nr; Type: INDEX; Schema: public; Owner: imdb\n",
      "--\n",
      "\n",
      "CREATE INDEX title_idx_season_nr ON public.title USING btree (season_nr);\n",
      "\n",
      "\n",
      "--\n",
      "-- Name: title_idx_title; Type: INDEX; Schema: public; Owner: imdb\n",
      "--\n",
      "\n",
      "CREATE INDEX title_idx_title ON public.title USING btree (title);\n",
      "\n",
      "\n",
      "--\n",
      "-- Name: title_idx_year; Type: INDEX; Schema: public; Owner: imdb\n",
      "--\n",
      "\n",
      "CREATE INDEX title_idx_year ON public.title USING btree (production_year);\n",
      "\n",
      "\n",
      "--\n",
      "-- Name: SCHEMA public; Type: ACL; Schema: -; Owner: pg_database_owner\n",
      "--\n",
      "\n",
      "GRANT ALL ON SCHEMA public TO imdb;\n",
      "\n",
      "\n",
      "--\n",
      "-- PostgreSQL database dump complete\n",
      "--\n",
      "\n"
     ]
    }
   ],
   "source": [
    "%%bash\n",
    "tail -n 50 job/export.sql"
   ]
  },
  {
   "cell_type": "code",
   "execution_count": 2,
   "id": "162d4341-50e8-4069-a052-448589a4d04b",
   "metadata": {},
   "outputs": [
    {
     "name": "stdout",
     "output_type": "stream",
     "text": [
      "SET\n",
      "SET\n",
      "SET\n",
      "SET\n",
      "SET\n",
      " set_config \n",
      "------------\n",
      " \n",
      "(1 row)\n",
      "\n",
      "SET\n",
      "SET\n",
      "SET\n",
      "SET\n",
      "SET\n",
      "SET\n"
     ]
    },
    {
     "name": "stderr",
     "output_type": "stream",
     "text": [
      "psql:export.sql:36: ERROR:  relation \"aka_name\" already exists\n",
      "psql:export.sql:51: ERROR:  relation \"aka_name_id_seq\" already exists\n"
     ]
    },
    {
     "name": "stdout",
     "output_type": "stream",
     "text": [
      "ALTER TABLE\n",
      "ALTER SEQUENCE\n",
      "ALTER SEQUENCE\n"
     ]
    },
    {
     "name": "stderr",
     "output_type": "stream",
     "text": [
      "psql:export.sql:80: ERROR:  relation \"aka_title\" already exists\n"
     ]
    },
    {
     "name": "stdout",
     "output_type": "stream",
     "text": [
      "ALTER TABLE\n"
     ]
    },
    {
     "name": "stderr",
     "output_type": "stream",
     "text": [
      "psql:export.sql:95: ERROR:  relation \"aka_title_id_seq\" already exists\n"
     ]
    },
    {
     "name": "stdout",
     "output_type": "stream",
     "text": [
      "ALTER SEQUENCE\n",
      "ALTER SEQUENCE\n"
     ]
    },
    {
     "name": "stderr",
     "output_type": "stream",
     "text": [
      "psql:export.sql:119: ERROR:  relation \"cast_info\" already exists\n"
     ]
    },
    {
     "name": "stdout",
     "output_type": "stream",
     "text": [
      "ALTER TABLE\n"
     ]
    },
    {
     "name": "stderr",
     "output_type": "stream",
     "text": [
      "psql:export.sql:134: ERROR:  relation \"cast_info_id_seq\" already exists\n"
     ]
    },
    {
     "name": "stdout",
     "output_type": "stream",
     "text": [
      "ALTER SEQUENCE\n",
      "ALTER SEQUENCE\n"
     ]
    },
    {
     "name": "stderr",
     "output_type": "stream",
     "text": [
      "psql:export.sql:158: ERROR:  relation \"char_name\" already exists\n"
     ]
    },
    {
     "name": "stdout",
     "output_type": "stream",
     "text": [
      "ALTER TABLE\n"
     ]
    },
    {
     "name": "stderr",
     "output_type": "stream",
     "text": [
      "psql:export.sql:173: ERROR:  relation \"char_name_id_seq\" already exists\n"
     ]
    },
    {
     "name": "stdout",
     "output_type": "stream",
     "text": [
      "ALTER SEQUENCE\n",
      "ALTER SEQUENCE\n"
     ]
    },
    {
     "name": "stderr",
     "output_type": "stream",
     "text": [
      "psql:export.sql:192: ERROR:  relation \"comp_cast_type\" already exists\n"
     ]
    },
    {
     "name": "stdout",
     "output_type": "stream",
     "text": [
      "ALTER TABLE\n"
     ]
    },
    {
     "name": "stderr",
     "output_type": "stream",
     "text": [
      "psql:export.sql:207: ERROR:  relation \"comp_cast_type_id_seq\" already exists\n"
     ]
    },
    {
     "name": "stdout",
     "output_type": "stream",
     "text": [
      "ALTER SEQUENCE\n",
      "ALTER SEQUENCE\n"
     ]
    },
    {
     "name": "stderr",
     "output_type": "stream",
     "text": [
      "psql:export.sql:231: ERROR:  relation \"company_name\" already exists\n"
     ]
    },
    {
     "name": "stdout",
     "output_type": "stream",
     "text": [
      "ALTER TABLE\n"
     ]
    },
    {
     "name": "stderr",
     "output_type": "stream",
     "text": [
      "psql:export.sql:246: ERROR:  relation \"company_name_id_seq\" already exists\n"
     ]
    },
    {
     "name": "stdout",
     "output_type": "stream",
     "text": [
      "ALTER SEQUENCE\n",
      "ALTER SEQUENCE\n"
     ]
    },
    {
     "name": "stderr",
     "output_type": "stream",
     "text": [
      "psql:export.sql:265: ERROR:  relation \"company_type\" already exists\n"
     ]
    },
    {
     "name": "stdout",
     "output_type": "stream",
     "text": [
      "ALTER TABLE\n"
     ]
    },
    {
     "name": "stderr",
     "output_type": "stream",
     "text": [
      "psql:export.sql:280: ERROR:  relation \"company_type_id_seq\" already exists\n"
     ]
    },
    {
     "name": "stdout",
     "output_type": "stream",
     "text": [
      "ALTER SEQUENCE\n",
      "ALTER SEQUENCE\n"
     ]
    },
    {
     "name": "stderr",
     "output_type": "stream",
     "text": [
      "psql:export.sql:301: ERROR:  relation \"complete_cast\" already exists\n"
     ]
    },
    {
     "name": "stdout",
     "output_type": "stream",
     "text": [
      "ALTER TABLE\n"
     ]
    },
    {
     "name": "stderr",
     "output_type": "stream",
     "text": [
      "psql:export.sql:316: ERROR:  relation \"complete_cast_id_seq\" already exists\n"
     ]
    },
    {
     "name": "stdout",
     "output_type": "stream",
     "text": [
      "ALTER SEQUENCE\n",
      "ALTER SEQUENCE\n"
     ]
    },
    {
     "name": "stderr",
     "output_type": "stream",
     "text": [
      "psql:export.sql:335: ERROR:  relation \"info_type\" already exists\n"
     ]
    },
    {
     "name": "stdout",
     "output_type": "stream",
     "text": [
      "ALTER TABLE\n"
     ]
    },
    {
     "name": "stderr",
     "output_type": "stream",
     "text": [
      "psql:export.sql:350: ERROR:  relation \"info_type_id_seq\" already exists\n"
     ]
    },
    {
     "name": "stdout",
     "output_type": "stream",
     "text": [
      "ALTER SEQUENCE\n",
      "ALTER SEQUENCE\n"
     ]
    },
    {
     "name": "stderr",
     "output_type": "stream",
     "text": [
      "psql:export.sql:370: ERROR:  relation \"keyword\" already exists\n"
     ]
    },
    {
     "name": "stdout",
     "output_type": "stream",
     "text": [
      "ALTER TABLE\n"
     ]
    },
    {
     "name": "stderr",
     "output_type": "stream",
     "text": [
      "psql:export.sql:385: ERROR:  relation \"keyword_id_seq\" already exists\n"
     ]
    },
    {
     "name": "stdout",
     "output_type": "stream",
     "text": [
      "ALTER SEQUENCE\n",
      "ALTER SEQUENCE\n"
     ]
    },
    {
     "name": "stderr",
     "output_type": "stream",
     "text": [
      "psql:export.sql:404: ERROR:  relation \"kind_type\" already exists\n"
     ]
    },
    {
     "name": "stdout",
     "output_type": "stream",
     "text": [
      "ALTER TABLE\n"
     ]
    },
    {
     "name": "stderr",
     "output_type": "stream",
     "text": [
      "psql:export.sql:419: ERROR:  relation \"kind_type_id_seq\" already exists\n"
     ]
    },
    {
     "name": "stdout",
     "output_type": "stream",
     "text": [
      "ALTER SEQUENCE\n",
      "ALTER SEQUENCE\n"
     ]
    },
    {
     "name": "stderr",
     "output_type": "stream",
     "text": [
      "psql:export.sql:438: ERROR:  relation \"link_type\" already exists\n"
     ]
    },
    {
     "name": "stdout",
     "output_type": "stream",
     "text": [
      "ALTER TABLE\n"
     ]
    },
    {
     "name": "stderr",
     "output_type": "stream",
     "text": [
      "psql:export.sql:453: ERROR:  relation \"link_type_id_seq\" already exists\n"
     ]
    },
    {
     "name": "stdout",
     "output_type": "stream",
     "text": [
      "ALTER SEQUENCE\n",
      "ALTER SEQUENCE\n"
     ]
    },
    {
     "name": "stderr",
     "output_type": "stream",
     "text": [
      "psql:export.sql:475: ERROR:  relation \"movie_companies\" already exists\n"
     ]
    },
    {
     "name": "stdout",
     "output_type": "stream",
     "text": [
      "ALTER TABLE\n"
     ]
    },
    {
     "name": "stderr",
     "output_type": "stream",
     "text": [
      "psql:export.sql:490: ERROR:  relation \"movie_companies_id_seq\" already exists\n"
     ]
    },
    {
     "name": "stdout",
     "output_type": "stream",
     "text": [
      "ALTER SEQUENCE\n",
      "ALTER SEQUENCE\n"
     ]
    },
    {
     "name": "stderr",
     "output_type": "stream",
     "text": [
      "psql:export.sql:512: ERROR:  relation \"movie_info\" already exists\n"
     ]
    },
    {
     "name": "stdout",
     "output_type": "stream",
     "text": [
      "ALTER TABLE\n"
     ]
    },
    {
     "name": "stderr",
     "output_type": "stream",
     "text": [
      "psql:export.sql:527: ERROR:  relation \"movie_info_id_seq\" already exists\n"
     ]
    },
    {
     "name": "stdout",
     "output_type": "stream",
     "text": [
      "ALTER SEQUENCE\n",
      "ALTER SEQUENCE\n"
     ]
    },
    {
     "name": "stderr",
     "output_type": "stream",
     "text": [
      "psql:export.sql:547: ERROR:  relation \"movie_keyword\" already exists\n"
     ]
    },
    {
     "name": "stdout",
     "output_type": "stream",
     "text": [
      "ALTER TABLE\n"
     ]
    },
    {
     "name": "stderr",
     "output_type": "stream",
     "text": [
      "psql:export.sql:562: ERROR:  relation \"movie_keyword_id_seq\" already exists\n"
     ]
    },
    {
     "name": "stdout",
     "output_type": "stream",
     "text": [
      "ALTER SEQUENCE\n",
      "ALTER SEQUENCE\n"
     ]
    },
    {
     "name": "stderr",
     "output_type": "stream",
     "text": [
      "psql:export.sql:583: ERROR:  relation \"movie_link\" already exists\n"
     ]
    },
    {
     "name": "stdout",
     "output_type": "stream",
     "text": [
      "ALTER TABLE\n"
     ]
    },
    {
     "name": "stderr",
     "output_type": "stream",
     "text": [
      "psql:export.sql:598: ERROR:  relation \"movie_link_id_seq\" already exists\n"
     ]
    },
    {
     "name": "stdout",
     "output_type": "stream",
     "text": [
      "ALTER SEQUENCE\n",
      "ALTER SEQUENCE\n"
     ]
    },
    {
     "name": "stderr",
     "output_type": "stream",
     "text": [
      "psql:export.sql:624: ERROR:  relation \"name\" already exists\n"
     ]
    },
    {
     "name": "stdout",
     "output_type": "stream",
     "text": [
      "ALTER TABLE\n"
     ]
    },
    {
     "name": "stderr",
     "output_type": "stream",
     "text": [
      "psql:export.sql:639: ERROR:  relation \"name_id_seq\" already exists\n"
     ]
    },
    {
     "name": "stdout",
     "output_type": "stream",
     "text": [
      "ALTER SEQUENCE\n",
      "ALTER SEQUENCE\n"
     ]
    },
    {
     "name": "stderr",
     "output_type": "stream",
     "text": [
      "psql:export.sql:661: ERROR:  relation \"person_info\" already exists\n"
     ]
    },
    {
     "name": "stdout",
     "output_type": "stream",
     "text": [
      "ALTER TABLE\n"
     ]
    },
    {
     "name": "stderr",
     "output_type": "stream",
     "text": [
      "psql:export.sql:676: ERROR:  relation \"person_info_id_seq\" already exists\n"
     ]
    },
    {
     "name": "stdout",
     "output_type": "stream",
     "text": [
      "ALTER SEQUENCE\n",
      "ALTER SEQUENCE\n"
     ]
    },
    {
     "name": "stderr",
     "output_type": "stream",
     "text": [
      "psql:export.sql:695: ERROR:  relation \"role_type\" already exists\n"
     ]
    },
    {
     "name": "stdout",
     "output_type": "stream",
     "text": [
      "ALTER TABLE\n"
     ]
    },
    {
     "name": "stderr",
     "output_type": "stream",
     "text": [
      "psql:export.sql:710: ERROR:  relation \"role_type_id_seq\" already exists\n"
     ]
    },
    {
     "name": "stdout",
     "output_type": "stream",
     "text": [
      "ALTER SEQUENCE\n",
      "ALTER SEQUENCE\n"
     ]
    },
    {
     "name": "stderr",
     "output_type": "stream",
     "text": [
      "psql:export.sql:739: ERROR:  relation \"title\" already exists\n"
     ]
    },
    {
     "name": "stdout",
     "output_type": "stream",
     "text": [
      "ALTER TABLE\n"
     ]
    },
    {
     "name": "stderr",
     "output_type": "stream",
     "text": [
      "psql:export.sql:754: ERROR:  relation \"title_id_seq\" already exists\n"
     ]
    },
    {
     "name": "stdout",
     "output_type": "stream",
     "text": [
      "ALTER SEQUENCE\n",
      "ALTER SEQUENCE\n",
      "ALTER TABLE\n",
      "ALTER TABLE\n",
      "ALTER TABLE\n",
      "ALTER TABLE\n",
      "ALTER TABLE\n",
      "ALTER TABLE\n",
      "ALTER TABLE\n",
      "ALTER TABLE\n",
      "ALTER TABLE\n",
      "ALTER TABLE\n",
      "ALTER TABLE\n",
      "ALTER TABLE\n",
      "ALTER TABLE\n",
      "ALTER TABLE\n",
      "ALTER TABLE\n",
      "ALTER TABLE\n",
      "ALTER TABLE\n",
      "ALTER TABLE\n",
      "ALTER TABLE\n",
      "ALTER TABLE\n",
      "COPY 1312273\n",
      "COPY 528297\n"
     ]
    },
    {
     "name": "stderr",
     "output_type": "stream",
     "text": [
      "psql:export.sql:65317332: ERROR:  duplicate key value violates unique constraint \"cast_info_pkey\"\n",
      "DETAIL:  Key (id)=(1) already exists.\n",
      "CONTEXT:  COPY cast_info, line 1\n",
      "psql:export.sql:69632204: ERROR:  duplicate key value violates unique constraint \"char_name_pkey\"\n",
      "DETAIL:  Key (id)=(1) already exists.\n",
      "CONTEXT:  COPY char_name, line 1\n",
      "psql:export.sql:69632216: ERROR:  duplicate key value violates unique constraint \"comp_cast_type_pkey\"\n",
      "DETAIL:  Key (id)=(1) already exists.\n",
      "CONTEXT:  COPY comp_cast_type, line 1\n",
      "psql:export.sql:69994355: ERROR:  duplicate key value violates unique constraint \"company_name_pkey\"\n",
      "DETAIL:  Key (id)=(1) already exists.\n",
      "CONTEXT:  COPY company_name, line 1\n",
      "psql:export.sql:69994367: ERROR:  duplicate key value violates unique constraint \"company_type_pkey\"\n",
      "DETAIL:  Key (id)=(1) already exists.\n",
      "CONTEXT:  COPY company_type, line 1\n",
      "psql:export.sql:70129461: ERROR:  duplicate key value violates unique constraint \"complete_cast_pkey\"\n",
      "DETAIL:  Key (id)=(1) already exists.\n",
      "CONTEXT:  COPY complete_cast, line 1\n",
      "psql:export.sql:70129582: ERROR:  duplicate key value violates unique constraint \"info_type_pkey\"\n",
      "DETAIL:  Key (id)=(1) already exists.\n",
      "CONTEXT:  COPY info_type, line 1\n",
      "psql:export.sql:70366217: ERROR:  duplicate key value violates unique constraint \"keyword_pkey\"\n",
      "DETAIL:  Key (id)=(1) already exists.\n",
      "CONTEXT:  COPY keyword, line 1\n",
      "psql:export.sql:70366234: ERROR:  duplicate key value violates unique constraint \"kind_type_pkey\"\n",
      "DETAIL:  Key (id)=(1) already exists.\n",
      "CONTEXT:  COPY kind_type, line 1\n",
      "psql:export.sql:70366260: ERROR:  duplicate key value violates unique constraint \"link_type_pkey\"\n",
      "DETAIL:  Key (id)=(1) already exists.\n",
      "CONTEXT:  COPY link_type, line 1\n",
      "psql:export.sql:75324564: ERROR:  duplicate key value violates unique constraint \"movie_companies_pkey\"\n",
      "DETAIL:  Key (id)=(1) already exists.\n",
      "CONTEXT:  COPY movie_companies, line 1\n",
      "psql:export.sql:105099258: ERROR:  duplicate key value violates unique constraint \"movie_info_pkey\"\n",
      "DETAIL:  Key (id)=(1) already exists.\n",
      "CONTEXT:  COPY movie_info, line 1\n",
      "psql:export.sql:112579353: ERROR:  duplicate key value violates unique constraint \"movie_keyword_pkey\"\n",
      "DETAIL:  Key (id)=(1) already exists.\n",
      "CONTEXT:  COPY movie_keyword, line 1\n",
      "psql:export.sql:115164511: ERROR:  duplicate key value violates unique constraint \"movie_link_pkey\"\n",
      "DETAIL:  Key (id)=(1) already exists.\n",
      "CONTEXT:  COPY movie_link, line 1\n",
      "psql:export.sql:121544259: ERROR:  duplicate key value violates unique constraint \"name_pkey\"\n",
      "DETAIL:  Key (id)=(1) already exists.\n",
      "CONTEXT:  COPY name, line 1\n",
      "psql:export.sql:125674474: ERROR:  duplicate key value violates unique constraint \"person_info_pkey\"\n",
      "DETAIL:  Key (id)=(1) already exists.\n",
      "CONTEXT:  COPY person_info, line 1\n",
      "psql:export.sql:125674494: ERROR:  duplicate key value violates unique constraint \"role_type_pkey\"\n",
      "DETAIL:  Key (id)=(1) already exists.\n",
      "CONTEXT:  COPY role_type, line 1\n",
      "psql:export.sql:128974502: ERROR:  duplicate key value violates unique constraint \"title_pkey\"\n",
      "DETAIL:  Key (id)=(100001) already exists.\n",
      "CONTEXT:  COPY title, line 1\n"
     ]
    },
    {
     "name": "stdout",
     "output_type": "stream",
     "text": [
      " setval  \n",
      "---------\n",
      " 1312273\n",
      "(1 row)\n",
      "\n",
      " setval \n",
      "--------\n",
      "      1\n",
      "(1 row)\n",
      "\n",
      "  setval  \n",
      "----------\n",
      " 63475835\n",
      "(1 row)\n",
      "\n",
      " setval \n",
      "--------\n",
      "      1\n",
      "(1 row)\n",
      "\n",
      " setval \n",
      "--------\n",
      "      4\n",
      "(1 row)\n",
      "\n",
      " setval \n",
      "--------\n",
      "      1\n",
      "(1 row)\n",
      "\n",
      " setval \n",
      "--------\n",
      "      4\n",
      "(1 row)\n",
      "\n",
      " setval \n",
      "--------\n",
      " 135086\n",
      "(1 row)\n",
      "\n",
      " setval \n",
      "--------\n",
      "    113\n",
      "(1 row)\n",
      "\n",
      " setval \n",
      "--------\n",
      "      1\n",
      "(1 row)\n",
      "\n",
      " setval \n",
      "--------\n",
      "      9\n",
      "(1 row)\n",
      "\n",
      " setval \n",
      "--------\n",
      "     18\n",
      "(1 row)\n",
      "\n",
      " setval  \n",
      "---------\n",
      " 4958296\n",
      "(1 row)\n",
      "\n",
      "  setval  \n",
      "----------\n",
      " 29774686\n",
      "(1 row)\n",
      "\n",
      " setval  \n",
      "---------\n",
      " 7480087\n",
      "(1 row)\n",
      "\n",
      " setval  \n",
      "---------\n",
      " 2585150\n",
      "(1 row)\n",
      "\n",
      " setval \n",
      "--------\n",
      "      1\n",
      "(1 row)\n",
      "\n",
      " setval  \n",
      "---------\n",
      " 4130207\n",
      "(1 row)\n",
      "\n",
      " setval \n",
      "--------\n",
      "     12\n",
      "(1 row)\n",
      "\n",
      " setval \n",
      "--------\n",
      "      1\n",
      "(1 row)\n",
      "\n"
     ]
    },
    {
     "name": "stderr",
     "output_type": "stream",
     "text": [
      "psql:export.sql:128974650: ERROR:  could not create unique index \"aka_name_pkey\"\n",
      "DETAIL:  Key (id)=(20403) is duplicated.\n",
      "psql:export.sql:128974658: ERROR:  could not create unique index \"aka_title_pkey\"\n",
      "DETAIL:  Key (id)=(458464) is duplicated.\n",
      "CONTEXT:  parallel worker\n",
      "psql:export.sql:128974666: ERROR:  multiple primary keys for table \"cast_info\" are not allowed\n",
      "psql:export.sql:128974674: ERROR:  multiple primary keys for table \"char_name\" are not allowed\n",
      "psql:export.sql:128974682: ERROR:  multiple primary keys for table \"comp_cast_type\" are not allowed\n",
      "psql:export.sql:128974690: ERROR:  multiple primary keys for table \"company_name\" are not allowed\n",
      "psql:export.sql:128974698: ERROR:  multiple primary keys for table \"company_type\" are not allowed\n",
      "psql:export.sql:128974706: ERROR:  multiple primary keys for table \"complete_cast\" are not allowed\n",
      "psql:export.sql:128974714: ERROR:  multiple primary keys for table \"info_type\" are not allowed\n",
      "psql:export.sql:128974722: ERROR:  multiple primary keys for table \"keyword\" are not allowed\n",
      "psql:export.sql:128974730: ERROR:  multiple primary keys for table \"kind_type\" are not allowed\n",
      "psql:export.sql:128974738: ERROR:  multiple primary keys for table \"link_type\" are not allowed\n",
      "psql:export.sql:128974746: ERROR:  multiple primary keys for table \"movie_companies\" are not allowed\n",
      "psql:export.sql:128974754: ERROR:  multiple primary keys for table \"movie_info\" are not allowed\n",
      "psql:export.sql:128974762: ERROR:  multiple primary keys for table \"movie_keyword\" are not allowed\n",
      "psql:export.sql:128974770: ERROR:  multiple primary keys for table \"movie_link\" are not allowed\n",
      "psql:export.sql:128974778: ERROR:  multiple primary keys for table \"name\" are not allowed\n",
      "psql:export.sql:128974786: ERROR:  multiple primary keys for table \"person_info\" are not allowed\n",
      "psql:export.sql:128974794: ERROR:  multiple primary keys for table \"role_type\" are not allowed\n",
      "psql:export.sql:128974802: ERROR:  multiple primary keys for table \"title\" are not allowed\n",
      "psql:export.sql:128974809: ERROR:  relation \"aka_name_idx_md5\" already exists\n",
      "psql:export.sql:128974816: ERROR:  relation \"aka_name_idx_name\" already exists\n",
      "psql:export.sql:128974823: ERROR:  relation \"aka_name_idx_pcode\" already exists\n",
      "psql:export.sql:128974830: ERROR:  relation \"aka_name_idx_pcodecf\" already exists\n",
      "psql:export.sql:128974837: ERROR:  relation \"aka_name_idx_pcodenf\" already exists\n",
      "psql:export.sql:128974844: ERROR:  relation \"aka_name_idx_person\" already exists\n",
      "psql:export.sql:128974851: ERROR:  relation \"aka_title_idx_epof\" already exists\n",
      "psql:export.sql:128974858: ERROR:  relation \"aka_title_idx_kindid\" already exists\n",
      "psql:export.sql:128974865: ERROR:  relation \"aka_title_idx_md5\" already exists\n",
      "psql:export.sql:128974872: ERROR:  relation \"aka_title_idx_movieid\" already exists\n",
      "psql:export.sql:128974879: ERROR:  relation \"aka_title_idx_pcode\" already exists\n",
      "psql:export.sql:128974886: ERROR:  relation \"aka_title_idx_title\" already exists\n",
      "psql:export.sql:128974893: ERROR:  relation \"aka_title_idx_year\" already exists\n",
      "psql:export.sql:128974900: ERROR:  relation \"cast_info_idx_cid\" already exists\n",
      "psql:export.sql:128974907: ERROR:  relation \"cast_info_idx_mid\" already exists\n",
      "psql:export.sql:128974914: ERROR:  relation \"cast_info_idx_pid\" already exists\n",
      "psql:export.sql:128974921: ERROR:  relation \"cast_info_idx_rid\" already exists\n",
      "psql:export.sql:128974928: ERROR:  relation \"char_name_idx_imdb_id\" already exists\n",
      "psql:export.sql:128974935: ERROR:  relation \"char_name_idx_md5\" already exists\n",
      "psql:export.sql:128974942: ERROR:  relation \"char_name_idx_name\" already exists\n",
      "psql:export.sql:128974949: ERROR:  relation \"char_name_idx_pcode\" already exists\n",
      "psql:export.sql:128974956: ERROR:  relation \"char_name_idx_pcodenf\" already exists\n",
      "psql:export.sql:128974963: ERROR:  relation \"comp_cast_type_kind\" already exists\n",
      "psql:export.sql:128974970: ERROR:  relation \"company_name_idx_ccode\" already exists\n",
      "psql:export.sql:128974977: ERROR:  relation \"company_name_idx_imdb_id\" already exists\n",
      "psql:export.sql:128974984: ERROR:  relation \"company_name_idx_md5\" already exists\n",
      "psql:export.sql:128974991: ERROR:  relation \"company_name_idx_name\" already exists\n",
      "psql:export.sql:128974998: ERROR:  relation \"company_name_idx_pcodenf\" already exists\n",
      "psql:export.sql:128975005: ERROR:  relation \"company_name_idx_pcodesf\" already exists\n",
      "psql:export.sql:128975012: ERROR:  relation \"company_type_kind\" already exists\n",
      "psql:export.sql:128975019: ERROR:  relation \"complete_cast_idx_mid\" already exists\n",
      "psql:export.sql:128975026: ERROR:  relation \"complete_cast_idx_sid\" already exists\n",
      "psql:export.sql:128975033: ERROR:  relation \"info_type_info\" already exists\n",
      "psql:export.sql:128975040: ERROR:  relation \"keyword_idx_keyword\" already exists\n",
      "psql:export.sql:128975047: ERROR:  relation \"keyword_idx_pcode\" already exists\n",
      "psql:export.sql:128975054: ERROR:  relation \"kind_type_kind\" already exists\n",
      "psql:export.sql:128975061: ERROR:  relation \"link_type_link\" already exists\n",
      "psql:export.sql:128975068: ERROR:  relation \"movie_companies_idx_cid\" already exists\n",
      "psql:export.sql:128975075: ERROR:  relation \"movie_companies_idx_ctypeid\" already exists\n",
      "psql:export.sql:128975082: ERROR:  relation \"movie_companies_idx_mid\" already exists\n",
      "psql:export.sql:128975089: ERROR:  relation \"movie_info_idx_infotypeid\" already exists\n",
      "psql:export.sql:128975096: ERROR:  relation \"movie_info_idx_mid\" already exists\n",
      "psql:export.sql:128975103: ERROR:  relation \"movie_keyword_idx_keywordid\" already exists\n",
      "psql:export.sql:128975110: ERROR:  relation \"movie_keyword_idx_mid\" already exists\n",
      "psql:export.sql:128975117: ERROR:  relation \"movie_link_idx_lmid\" already exists\n",
      "psql:export.sql:128975124: ERROR:  relation \"movie_link_idx_ltypeid\" already exists\n",
      "psql:export.sql:128975131: ERROR:  relation \"movie_link_idx_mid\" already exists\n",
      "psql:export.sql:128975138: ERROR:  relation \"name_idx_gender\" already exists\n",
      "psql:export.sql:128975145: ERROR:  relation \"name_idx_imdb_id\" already exists\n",
      "psql:export.sql:128975152: ERROR:  relation \"name_idx_md5\" already exists\n",
      "psql:export.sql:128975159: ERROR:  relation \"name_idx_name\" already exists\n",
      "psql:export.sql:128975166: ERROR:  relation \"name_idx_pcode\" already exists\n",
      "psql:export.sql:128975173: ERROR:  relation \"name_idx_pcodecf\" already exists\n",
      "psql:export.sql:128975180: ERROR:  relation \"name_idx_pcodenf\" already exists\n",
      "psql:export.sql:128975187: ERROR:  relation \"person_info_idx_itypeid\" already exists\n",
      "psql:export.sql:128975194: ERROR:  relation \"person_info_idx_pid\" already exists\n",
      "psql:export.sql:128975201: ERROR:  relation \"role_type_role\" already exists\n",
      "psql:export.sql:128975208: ERROR:  relation \"title_idx_episode_nr\" already exists\n",
      "psql:export.sql:128975215: ERROR:  relation \"title_idx_epof\" already exists\n",
      "psql:export.sql:128975222: ERROR:  relation \"title_idx_imdb_id\" already exists\n",
      "psql:export.sql:128975229: ERROR:  relation \"title_idx_kindid\" already exists\n",
      "psql:export.sql:128975236: ERROR:  relation \"title_idx_md5\" already exists\n",
      "psql:export.sql:128975243: ERROR:  relation \"title_idx_pcode\" already exists\n",
      "psql:export.sql:128975250: ERROR:  relation \"title_idx_season_nr\" already exists\n",
      "psql:export.sql:128975257: ERROR:  relation \"title_idx_title\" already exists\n",
      "psql:export.sql:128975264: ERROR:  relation \"title_idx_year\" already exists\n",
      "psql:export.sql:128975271: WARNING:  no privileges were granted for \"public\"\n"
     ]
    },
    {
     "name": "stdout",
     "output_type": "stream",
     "text": [
      "GRANT\n"
     ]
    }
   ],
   "source": [
    "%%bash\n",
    "\n",
    "cd job\n",
    "PGPASSWORD=imdb psql -h postgres -U imdb -d imdb -f export.sql"
   ]
  },
  {
   "cell_type": "code",
   "execution_count": 10,
   "id": "3021510f-ddbf-41a4-b264-7b2795f13a7b",
   "metadata": {},
   "outputs": [
    {
     "name": "stdout",
     "output_type": "stream",
     "text": [
      "            List of relations\n",
      " Schema |      Name       | Type  | Owner \n",
      "--------+-----------------+-------+-------\n",
      " public | aka_name        | table | imdb\n",
      " public | aka_title       | table | imdb\n",
      " public | cast_info       | table | imdb\n",
      " public | char_name       | table | imdb\n",
      " public | comp_cast_type  | table | imdb\n",
      " public | company_name    | table | imdb\n",
      " public | company_type    | table | imdb\n",
      " public | complete_cast   | table | imdb\n",
      " public | info_type       | table | imdb\n",
      " public | keyword         | table | imdb\n",
      " public | kind_type       | table | imdb\n",
      " public | link_type       | table | imdb\n",
      " public | movie_companies | table | imdb\n",
      " public | movie_info      | table | imdb\n",
      " public | movie_keyword   | table | imdb\n",
      " public | movie_link      | table | imdb\n",
      " public | name            | table | imdb\n",
      " public | person_info     | table | imdb\n",
      " public | role_type       | table | imdb\n",
      " public | title           | table | imdb\n",
      "(20 rows)\n",
      "\n"
     ]
    }
   ],
   "source": [
    "%%bash\n",
    "PGPASSWORD=imdb psql -h postgres -U imdb -d imdb\n",
    "\\dt"
   ]
  },
  {
   "cell_type": "markdown",
   "id": "f30a193a-72fb-45eb-bdc2-a373a4519dcc",
   "metadata": {},
   "source": [
    "# STATS"
   ]
  },
  {
   "cell_type": "markdown",
   "id": "744683bc-a5aa-40d0-8a70-9c81cf9328fc",
   "metadata": {},
   "source": [
    "## Import the STATS dataset"
   ]
  },
  {
   "cell_type": "code",
   "execution_count": 21,
   "id": "f104f30b-4b1a-4ea8-b0fd-675d40adb3dd",
   "metadata": {},
   "outputs": [
    {
     "name": "stderr",
     "output_type": "stream",
     "text": [
      "psql:datasets/stats.sql:9: ERROR:  relation \"users\" already exists\n",
      "psql:datasets/stats.sql:23: ERROR:  relation \"posts\" already exists\n",
      "psql:datasets/stats.sql:32: ERROR:  relation \"postlinks\" already exists\n",
      "psql:datasets/stats.sql:41: ERROR:  relation \"posthistory\" already exists\n",
      "psql:datasets/stats.sql:50: ERROR:  relation \"comments\" already exists\n",
      "psql:datasets/stats.sql:60: ERROR:  relation \"votes\" already exists\n",
      "psql:datasets/stats.sql:67: ERROR:  relation \"badges\" already exists\n",
      "psql:datasets/stats.sql:74: ERROR:  relation \"tags\" already exists\n"
     ]
    },
    {
     "name": "stdout",
     "output_type": "stream",
     "text": [
      "COPY 79851\n",
      "COPY 174305\n",
      "COPY 40325\n",
      "COPY 1032\n",
      "COPY 91976\n",
      "COPY 328064\n",
      "COPY 303187\n",
      "COPY 11102\n"
     ]
    }
   ],
   "source": [
    "%%bash\n",
    "\n",
    "cd stats\n",
    "PGPASSWORD=stats psql -h postgres -U stats -d stats -f datasets/stats.sql\n",
    "PGPASSWORD=stats psql -h postgres -U stats -d stats -f scripts/stats_load.sql"
   ]
  },
  {
   "cell_type": "markdown",
   "id": "ce3317ba-c89a-49e3-8b1e-55c216fe15e9",
   "metadata": {},
   "source": [
    "## Generate the STATS queries\n",
    "\n",
    "Some small errors in the names of the foreign keys are fixed (from https://arxiv.org/pdf/2109.05877.pdf)"
   ]
  },
  {
   "cell_type": "code",
   "execution_count": 32,
   "id": "ae9744c6-7bba-46a0-9b21-8587bb8848b7",
   "metadata": {},
   "outputs": [],
   "source": [
    "import re\n",
    "\n",
    "query_file = Path('stats/workload/stats_CEB.sql').read_text()\n",
    "queries = []\n",
    "for i, row in enumerate(query_file.split('\\n')):\n",
    "    count = int(row.split('||')[0])\n",
    "    query = row.split('||')[1]\n",
    "\n",
    "    p = re.compile(\"('\\\\d{4}-\\\\d{2}-\\\\d{2} \\\\d{2}:\\\\d{2}:\\\\d{2}')::timestamp\")\n",
    "    query_replaced = p.sub(lambda match: f'CAST({match.group(1)} AS TIMESTAMP)', query)\n",
    "    queries.append((i, count, query_replaced))\n",
    "\n",
    "queries.sort(key=lambda t: t[1])\n",
    "\n",
    "hints = [('FK(t.ExcerptPostId, p.Id)', ['t', 'p']),\n",
    "        ('FK(pl.PostId, p.Id)', ['pl', 'p']),\n",
    "        ('FK(pl.RelatedPostId, p.Id)', ['pl', 'p']),\n",
    "        ('FK(c.PostId, p.Id)', ['c', 'p']),\n",
    "        ('FK(ph.PostId, p.Id)', ['ph', 'p']),\n",
    "        ('FK(v.PostId, p.Id)', ['v', 'p']),\n",
    "        ('FK(p.OwnerUserId, u.Id)', ['p', 'u']),\n",
    "        ('FK(c.UserId, u.Id)', ['c', 'u']),\n",
    "        ('FK(ph.UserId, u.Id)', ['ph', 'u']),\n",
    "        ('FK(b.UserId, u.Id)', ['b', 'u']),\n",
    "        ('FK(v.UserId, u.Id)', ['v', 'u'])]\n",
    "\n",
    "for i, (idx, count, query_replaced) in enumerate(queries):\n",
    "    with open(f'stats-queries/{i+1:03}-{idx+1:03}.sql', 'w') as f:\n",
    "        f.write(query_replaced)\n",
    "    with open(f'stats-queries/hints/{i+1:03}-{idx+1:03}-hint.sql', 'w') as f:\n",
    "        applicable_hints = list(map(lambda h: h[0],\n",
    "                               list(filter(lambda h: re.search('as {rname}( |,)'.format(rname=h[1][0]), query_replaced) is not None\n",
    "                                           and re.search('as {rname}( |,)'.format(rname=h[1][1]), query_replaced) is not None, hints))))\n",
    "        if (len(applicable_hints) > 0):\n",
    "            query_hints = query_replaced.replace('SELECT', f'SELECT /*+ {\",\".join(applicable_hints)} */ ')\n",
    "            f.write(query_hints)\n",
    "        else:\n",
    "            f.write(query_replaced)"
   ]
  },
  {
   "cell_type": "markdown",
   "id": "68acddc4-28ae-4c09-9532-a11e2646b80e",
   "metadata": {},
   "source": [
    "# HETIONET"
   ]
  },
  {
   "cell_type": "code",
   "execution_count": 2,
   "id": "9d095ee6-547d-465a-9659-2c21eaa7a2ec",
   "metadata": {},
   "outputs": [
    {
     "name": "stderr",
     "output_type": "stream",
     "text": [
      "rm: cannot remove 'hetionet-v1.0.json.bz2': No such file or directory\n",
      "--2024-04-09 07:31:58--  https://github.com/hetio/hetionet/raw/main/hetnet/json/hetionet-v1.0.json.bz2\n",
      "Resolving github.com (github.com)... 140.82.121.4\n",
      "Connecting to github.com (github.com)|140.82.121.4|:443... connected.\n",
      "HTTP request sent, awaiting response... 302 Found\n",
      "Location: https://media.githubusercontent.com/media/hetio/hetionet/main/hetnet/json/hetionet-v1.0.json.bz2 [following]\n",
      "--2024-04-09 07:31:59--  https://media.githubusercontent.com/media/hetio/hetionet/main/hetnet/json/hetionet-v1.0.json.bz2\n",
      "Resolving media.githubusercontent.com (media.githubusercontent.com)... 185.199.108.133, 185.199.110.133, 185.199.109.133, ...\n",
      "Connecting to media.githubusercontent.com (media.githubusercontent.com)|185.199.108.133|:443... connected.\n",
      "HTTP request sent, awaiting response... 200 OK\n",
      "Length: 16112094 (15M) [application/octet-stream]\n",
      "Saving to: ‘hetionet-v1.0.json.bz2’\n",
      "\n",
      "     0K .......... .......... .......... .......... ..........  0% 1.96M 8s\n",
      "    50K .......... .......... .......... .......... ..........  0% 2.27M 7s\n",
      "   100K .......... .......... .......... .......... ..........  0% 4.80M 6s\n",
      "   150K .......... .......... .......... .......... ..........  1% 6.24M 5s\n",
      "   200K .......... .......... .......... .......... ..........  1% 5.91M 4s\n",
      "   250K .......... .......... .......... .......... ..........  1% 4.19M 4s\n",
      "   300K .......... .......... .......... .......... ..........  2% 5.30M 4s\n",
      "   350K .......... .......... .......... .......... ..........  2% 5.47M 4s\n",
      "   400K .......... .......... .......... .......... ..........  2% 4.13M 4s\n",
      "   450K .......... .......... .......... .......... ..........  3% 4.44M 4s\n",
      "   500K .......... .......... .......... .......... ..........  3% 5.73M 4s\n",
      "   550K .......... .......... .......... .......... ..........  3% 3.26M 4s\n",
      "   600K .......... .......... .......... .......... ..........  4% 25.7M 3s\n",
      "   650K .......... .......... .......... .......... ..........  4% 3.60M 4s\n",
      "   700K .......... .......... .......... .......... ..........  4% 3.30M 4s\n",
      "   750K .......... .......... .......... .......... ..........  5% 4.48M 4s\n",
      "   800K .......... .......... .......... .......... ..........  5% 2.59M 4s\n",
      "   850K .......... .......... .......... .......... ..........  5% 5.25M 4s\n",
      "   900K .......... .......... .......... .......... ..........  6% 3.56M 4s\n",
      "   950K .......... .......... .......... .......... ..........  6% 3.91M 4s\n",
      "  1000K .......... .......... .......... .......... ..........  6% 5.44M 4s\n",
      "  1050K .......... .......... .......... .......... ..........  6% 6.36M 3s\n",
      "  1100K .......... .......... .......... .......... ..........  7% 5.78M 3s\n",
      "  1150K .......... .......... .......... .......... ..........  7% 3.63M 3s\n",
      "  1200K .......... .......... .......... .......... ..........  7% 5.07M 3s\n",
      "  1250K .......... .......... .......... .......... ..........  8% 5.65M 3s\n",
      "  1300K .......... .......... .......... .......... ..........  8% 3.45M 3s\n",
      "  1350K .......... .......... .......... .......... ..........  8% 6.06M 3s\n",
      "  1400K .......... .......... .......... .......... ..........  9% 3.32M 3s\n",
      "  1450K .......... .......... .......... .......... ..........  9% 1.11M 4s\n",
      "  1500K .......... .......... .......... .......... ..........  9% 2.88M 4s\n",
      "  1550K .......... .......... .......... .......... .......... 10% 3.49M 4s\n",
      "  1600K .......... .......... .......... .......... .......... 10% 1.94M 4s\n",
      "  1650K .......... .......... .......... .......... .......... 10% 2.03M 4s\n",
      "  1700K .......... .......... .......... .......... .......... 11% 2.47M 4s\n",
      "  1750K .......... .......... .......... .......... .......... 11% 4.02M 4s\n",
      "  1800K .......... .......... .......... .......... .......... 11% 3.54M 4s\n",
      "  1850K .......... .......... .......... .......... .......... 12% 5.81M 4s\n",
      "  1900K .......... .......... .......... .......... .......... 12% 3.19M 4s\n",
      "  1950K .......... .......... .......... .......... .......... 12% 6.09M 4s\n",
      "  2000K .......... .......... .......... .......... .......... 13% 2.23M 4s\n",
      "  2050K .......... .......... .......... .......... .......... 13% 3.70M 4s\n",
      "  2100K .......... .......... .......... .......... .......... 13% 4.45M 4s\n",
      "  2150K .......... .......... .......... .......... .......... 13% 3.15M 4s\n",
      "  2200K .......... .......... .......... .......... .......... 14% 3.09M 4s\n",
      "  2250K .......... .......... .......... .......... .......... 14% 4.37M 4s\n",
      "  2300K .......... .......... .......... .......... .......... 14% 5.76M 4s\n",
      "  2350K .......... .......... .......... .......... .......... 15% 3.35M 4s\n",
      "  2400K .......... .......... .......... .......... .......... 15% 6.97M 4s\n",
      "  2450K .......... .......... .......... .......... .......... 15% 5.20M 4s\n",
      "  2500K .......... .......... .......... .......... .......... 16% 6.39M 3s\n",
      "  2550K .......... .......... .......... .......... .......... 16% 5.28M 3s\n",
      "  2600K .......... .......... .......... .......... .......... 16% 9.05M 3s\n",
      "  2650K .......... .......... .......... .......... .......... 17% 3.86M 3s\n",
      "  2700K .......... .......... .......... .......... .......... 17% 5.96M 3s\n",
      "  2750K .......... .......... .......... .......... .......... 17% 2.45M 3s\n",
      "  2800K .......... .......... .......... .......... .......... 18% 3.56M 3s\n",
      "  2850K .......... .......... .......... .......... .......... 18% 2.44M 3s\n",
      "  2900K .......... .......... .......... .......... .......... 18% 1.36M 3s\n",
      "  2950K .......... .......... .......... .......... .......... 19% 1.80M 4s\n",
      "  3000K .......... .......... .......... .......... .......... 19%  494K 4s\n",
      "  3050K .......... .......... .......... .......... .......... 19% 1.49M 4s\n",
      "  3100K .......... .......... .......... .......... .......... 20% 2.56M 4s\n",
      "  3150K .......... .......... .......... .......... .......... 20% 2.14M 4s\n",
      "  3200K .......... .......... .......... .......... .......... 20% 3.46M 4s\n",
      "  3250K .......... .......... .......... .......... .......... 20% 3.45M 4s\n",
      "  3300K .......... .......... .......... .......... .......... 21% 3.26M 4s\n",
      "  3350K .......... .......... .......... .......... .......... 21% 2.53M 4s\n",
      "  3400K .......... .......... .......... .......... .......... 21% 2.63M 4s\n",
      "  3450K .......... .......... .......... .......... .......... 22% 3.31M 4s\n",
      "  3500K .......... .......... .......... .......... .......... 22% 2.77M 4s\n",
      "  3550K .......... .......... .......... .......... .......... 22% 2.52M 4s\n",
      "  3600K .......... .......... .......... .......... .......... 23% 2.56M 4s\n",
      "  3650K .......... .......... .......... .......... .......... 23% 1.87M 4s\n",
      "  3700K .......... .......... .......... .......... .......... 23% 3.36M 4s\n",
      "  3750K .......... .......... .......... .......... .......... 24% 3.27M 4s\n",
      "  3800K .......... .......... .......... .......... .......... 24% 5.96M 4s\n",
      "  3850K .......... .......... .......... .......... .......... 24% 4.64M 4s\n",
      "  3900K .......... .......... .......... .......... .......... 25% 5.46M 4s\n",
      "  3950K .......... .......... .......... .......... .......... 25% 4.53M 4s\n",
      "  4000K .......... .......... .......... .......... .......... 25% 4.90M 4s\n",
      "  4050K .......... .......... .......... .......... .......... 26% 7.13M 4s\n",
      "  4100K .......... .......... .......... .......... .......... 26% 4.19M 4s\n",
      "  4150K .......... .......... .......... .......... .......... 26% 5.74M 4s\n",
      "  4200K .......... .......... .......... .......... .......... 27% 2.33M 4s\n",
      "  4250K .......... .......... .......... .......... .......... 27% 4.24M 4s\n",
      "  4300K .......... .......... .......... .......... .......... 27% 5.56M 3s\n",
      "  4350K .......... .......... .......... .......... .......... 27% 3.59M 3s\n",
      "  4400K .......... .......... .......... .......... .......... 28% 6.86M 3s\n",
      "  4450K .......... .......... .......... .......... .......... 28% 5.00M 3s\n",
      "  4500K .......... .......... .......... .......... .......... 28% 4.52M 3s\n",
      "  4550K .......... .......... .......... .......... .......... 29% 1.94M 3s\n",
      "  4600K .......... .......... .......... .......... .......... 29% 3.01M 3s\n",
      "  4650K .......... .......... .......... .......... .......... 29% 3.94M 3s\n",
      "  4700K .......... .......... .......... .......... .......... 30% 5.81M 3s\n",
      "  4750K .......... .......... .......... .......... .......... 30% 3.78M 3s\n",
      "  4800K .......... .......... .......... .......... .......... 30% 5.44M 3s\n",
      "  4850K .......... .......... .......... .......... .......... 31% 4.38M 3s\n",
      "  4900K .......... .......... .......... .......... .......... 31% 4.67M 3s\n",
      "  4950K .......... .......... .......... .......... .......... 31% 5.10M 3s\n",
      "  5000K .......... .......... .......... .......... .......... 32% 4.53M 3s\n",
      "  5050K .......... .......... .......... .......... .......... 32% 5.52M 3s\n",
      "  5100K .......... .......... .......... .......... .......... 32% 5.28M 3s\n",
      "  5150K .......... .......... .......... .......... .......... 33% 2.83M 3s\n",
      "  5200K .......... .......... .......... .......... .......... 33% 6.01M 3s\n",
      "  5250K .......... .......... .......... .......... .......... 33% 4.90M 3s\n",
      "  5300K .......... .......... .......... .......... .......... 34% 4.72M 3s\n",
      "  5350K .......... .......... .......... .......... .......... 34% 3.29M 3s\n",
      "  5400K .......... .......... .......... .......... .......... 34% 2.79M 3s\n",
      "  5450K .......... .......... .......... .......... .......... 34% 3.28M 3s\n",
      "  5500K .......... .......... .......... .......... .......... 35% 2.67M 3s\n",
      "  5550K .......... .......... .......... .......... .......... 35% 2.14M 3s\n",
      "  5600K .......... .......... .......... .......... .......... 35% 2.99M 3s\n",
      "  5650K .......... .......... .......... .......... .......... 36% 4.19M 3s\n",
      "  5700K .......... .......... .......... .......... .......... 36% 4.26M 3s\n",
      "  5750K .......... .......... .......... .......... .......... 36% 4.02M 3s\n",
      "  5800K .......... .......... .......... .......... .......... 37% 6.62M 3s\n",
      "  5850K .......... .......... .......... .......... .......... 37% 5.49M 3s\n",
      "  5900K .......... .......... .......... .......... .......... 37% 7.19M 3s\n",
      "  5950K .......... .......... .......... .......... .......... 38% 4.16M 3s\n",
      "  6000K .......... .......... .......... .......... .......... 38% 5.65M 3s\n",
      "  6050K .......... .......... .......... .......... .......... 38% 4.87M 3s\n",
      "  6100K .......... .......... .......... .......... .......... 39% 5.56M 3s\n",
      "  6150K .......... .......... .......... .......... .......... 39% 6.40M 3s\n",
      "  6200K .......... .......... .......... .......... .......... 39% 3.72M 3s\n",
      "  6250K .......... .......... .......... .......... .......... 40% 5.37M 3s\n",
      "  6300K .......... .......... .......... .......... .......... 40% 4.95M 3s\n",
      "  6350K .......... .......... .......... .......... .......... 40% 4.10M 3s\n",
      "  6400K .......... .......... .......... .......... .......... 40% 4.15M 3s\n",
      "  6450K .......... .......... .......... .......... .......... 41% 4.60M 3s\n",
      "  6500K .......... .......... .......... .......... .......... 41% 4.83M 3s\n",
      "  6550K .......... .......... .......... .......... .......... 41% 2.79M 3s\n",
      "  6600K .......... .......... .......... .......... .......... 42% 5.06M 3s\n",
      "  6650K .......... .......... .......... .......... .......... 42%  372K 3s\n",
      "  6700K .......... .......... .......... .......... .......... 42% 1.10M 3s\n",
      "  6750K .......... .......... .......... .......... .......... 43% 1.98M 3s\n",
      "  6800K .......... .......... .......... .......... .......... 43% 4.54M 3s\n",
      "  6850K .......... .......... .......... .......... .......... 43% 5.26M 3s\n",
      "  6900K .......... .......... .......... .......... .......... 44% 4.70M 3s\n",
      "  6950K .......... .......... .......... .......... .......... 44% 6.24M 3s\n",
      "  7000K .......... .......... .......... .......... .......... 44% 4.35M 3s\n",
      "  7050K .......... .......... .......... .......... .......... 45% 5.83M 3s\n",
      "  7100K .......... .......... .......... .......... .......... 45% 4.55M 3s\n",
      "  7150K .......... .......... .......... .......... .......... 45% 3.72M 3s\n",
      "  7200K .......... .......... .......... .......... .......... 46% 4.35M 3s\n",
      "  7250K .......... .......... .......... .......... .......... 46% 6.22M 3s\n",
      "  7300K .......... .......... .......... .......... .......... 46% 4.17M 2s\n",
      "  7350K .......... .......... .......... .......... .......... 47% 2.65M 2s\n",
      "  7400K .......... .......... .......... .......... .......... 47%  598K 3s\n",
      "  7450K .......... .......... .......... .......... .......... 47% 2.33M 3s\n",
      "  7500K .......... .......... .......... .......... .......... 47% 3.36M 3s\n",
      "  7550K .......... .......... .......... .......... .......... 48% 3.16M 3s\n",
      "  7600K .......... .......... .......... .......... .......... 48% 2.56M 2s\n",
      "  7650K .......... .......... .......... .......... .......... 48% 4.37M 2s\n",
      "  7700K .......... .......... .......... .......... .......... 49% 5.50M 2s\n",
      "  7750K .......... .......... .......... .......... .......... 49% 3.08M 2s\n",
      "  7800K .......... .......... .......... .......... .......... 49% 4.22M 2s\n",
      "  7850K .......... .......... .......... .......... .......... 50% 4.94M 2s\n",
      "  7900K .......... .......... .......... .......... .......... 50% 4.73M 2s\n",
      "  7950K .......... .......... .......... .......... .......... 50% 2.96M 2s\n",
      "  8000K .......... .......... .......... .......... .......... 51% 3.11M 2s\n",
      "  8050K .......... .......... .......... .......... .......... 51% 2.87M 2s\n",
      "  8100K .......... .......... .......... .......... .......... 51% 6.13M 2s\n",
      "  8150K .......... .......... .......... .......... .......... 52% 2.19M 2s\n",
      "  8200K .......... .......... .......... .......... .......... 52% 1.47M 2s\n",
      "  8250K .......... .......... .......... .......... .......... 52% 3.19M 2s\n",
      "  8300K .......... .......... .......... .......... .......... 53% 3.54M 2s\n",
      "  8350K .......... .......... .......... .......... .......... 53% 2.57M 2s\n",
      "  8400K .......... .......... .......... .......... .......... 53% 4.82M 2s\n",
      "  8450K .......... .......... .......... .......... .......... 54% 6.78M 2s\n",
      "  8500K .......... .......... .......... .......... .......... 54% 3.22M 2s\n",
      "  8550K .......... .......... .......... .......... .......... 54% 5.03M 2s\n",
      "  8600K .......... .......... .......... .......... .......... 54% 5.06M 2s\n",
      "  8650K .......... .......... .......... .......... .......... 55% 3.52M 2s\n",
      "  8700K .......... .......... .......... .......... .......... 55% 7.34M 2s\n",
      "  8750K .......... .......... .......... .......... .......... 55% 4.43M 2s\n",
      "  8800K .......... .......... .......... .......... .......... 56% 2.26M 2s\n",
      "  8850K .......... .......... .......... .......... .......... 56% 3.01M 2s\n",
      "  8900K .......... .......... .......... .......... .......... 56% 6.37M 2s\n",
      "  8950K .......... .......... .......... .......... .......... 57% 6.59M 2s\n",
      "  9000K .......... .......... .......... .......... .......... 57% 4.50M 2s\n",
      "  9050K .......... .......... .......... .......... .......... 57% 7.67M 2s\n",
      "  9100K .......... .......... .......... .......... .......... 58% 4.83M 2s\n",
      "  9150K .......... .......... .......... .......... .......... 58% 3.62M 2s\n",
      "  9200K .......... .......... .......... .......... .......... 58% 4.75M 2s\n",
      "  9250K .......... .......... .......... .......... .......... 59% 6.34M 2s\n",
      "  9300K .......... .......... .......... .......... .......... 59% 3.57M 2s\n",
      "  9350K .......... .......... .......... .......... .......... 59%  543K 2s\n",
      "  9400K .......... .......... .......... .......... .......... 60%  428K 2s\n",
      "  9450K .......... .......... .......... .......... .......... 60% 1.47M 2s\n",
      "  9500K .......... .......... .......... .......... .......... 60% 2.93M 2s\n",
      "  9550K .......... .......... .......... .......... .......... 61% 2.50M 2s\n",
      "  9600K .......... .......... .......... .......... .......... 61% 4.91M 2s\n",
      "  9650K .......... .......... .......... .......... .......... 61% 4.85M 2s\n",
      "  9700K .......... .......... .......... .......... .......... 61% 6.44M 2s\n",
      "  9750K .......... .......... .......... .......... .......... 62% 4.66M 2s\n",
      "  9800K .......... .......... .......... .......... .......... 62% 4.20M 2s\n",
      "  9850K .......... .......... .......... .......... .......... 62% 4.02M 2s\n",
      "  9900K .......... .......... .......... .......... .......... 63% 5.45M 2s\n",
      "  9950K .......... .......... .......... .......... .......... 63% 4.07M 2s\n",
      " 10000K .......... .......... .......... .......... .......... 63% 3.62M 2s\n",
      " 10050K .......... .......... .......... .......... .......... 64% 4.33M 2s\n",
      " 10100K .......... .......... .......... .......... .......... 64% 3.10M 2s\n",
      " 10150K .......... .......... .......... .......... .......... 64% 5.93M 2s\n",
      " 10200K .......... .......... .......... .......... .......... 65% 4.02M 2s\n",
      " 10250K .......... .......... .......... .......... .......... 65% 7.50M 2s\n",
      " 10300K .......... .......... .......... .......... .......... 65% 3.22M 2s\n",
      " 10350K .......... .......... .......... .......... .......... 66% 2.48M 2s\n",
      " 10400K .......... .......... .......... .......... .......... 66% 5.24M 2s\n",
      " 10450K .......... .......... .......... .......... .......... 66% 5.44M 2s\n",
      " 10500K .......... .......... .......... .......... .......... 67% 6.23M 2s\n",
      " 10550K .......... .......... .......... .......... .......... 67% 5.34M 2s\n",
      " 10600K .......... .......... .......... .......... .......... 67% 5.58M 2s\n",
      " 10650K .......... .......... .......... .......... .......... 68% 5.04M 2s\n",
      " 10700K .......... .......... .......... .......... .......... 68% 4.41M 2s\n",
      " 10750K .......... .......... .......... .......... .......... 68% 3.06M 2s\n",
      " 10800K .......... .......... .......... .......... .......... 68% 3.37M 2s\n",
      " 10850K .......... .......... .......... .......... .......... 69% 3.17M 1s\n",
      " 10900K .......... .......... .......... .......... .......... 69% 4.59M 1s\n",
      " 10950K .......... .......... .......... .......... .......... 69% 6.37M 1s\n",
      " 11000K .......... .......... .......... .......... .......... 70% 4.45M 1s\n",
      " 11050K .......... .......... .......... .......... .......... 70% 4.67M 1s\n",
      " 11100K .......... .......... .......... .......... .......... 70% 1.94M 1s\n",
      " 11150K .......... .......... .......... .......... .......... 71% 1.95M 1s\n",
      " 11200K .......... .......... .......... .......... .......... 71% 3.21M 1s\n",
      " 11250K .......... .......... .......... .......... .......... 71% 4.01M 1s\n",
      " 11300K .......... .......... .......... .......... .......... 72% 5.87M 1s\n",
      " 11350K .......... .......... .......... .......... .......... 72% 4.74M 1s\n",
      " 11400K .......... .......... .......... .......... .......... 72% 6.68M 1s\n",
      " 11450K .......... .......... .......... .......... .......... 73% 4.41M 1s\n",
      " 11500K .......... .......... .......... .......... .......... 73% 4.01M 1s\n",
      " 11550K .......... .......... .......... .......... .......... 73% 3.45M 1s\n",
      " 11600K .......... .......... .......... .......... .......... 74% 5.96M 1s\n",
      " 11650K .......... .......... .......... .......... .......... 74% 2.67M 1s\n",
      " 11700K .......... .......... .......... .......... .......... 74% 4.73M 1s\n",
      " 11750K .......... .......... .......... .......... .......... 74% 3.47M 1s\n",
      " 11800K .......... .......... .......... .......... .......... 75% 3.76M 1s\n",
      " 11850K .......... .......... .......... .......... .......... 75% 5.27M 1s\n",
      " 11900K .......... .......... .......... .......... .......... 75% 5.35M 1s\n",
      " 11950K .......... .......... .......... .......... .......... 76% 4.94M 1s\n",
      " 12000K .......... .......... .......... .......... .......... 76% 2.11M 1s\n",
      " 12050K .......... .......... .......... .......... .......... 76% 3.25M 1s\n",
      " 12100K .......... .......... .......... .......... .......... 77% 4.55M 1s\n",
      " 12150K .......... .......... .......... .......... .......... 77% 4.97M 1s\n",
      " 12200K .......... .......... .......... .......... .......... 77% 4.65M 1s\n",
      " 12250K .......... .......... .......... .......... .......... 78% 6.98M 1s\n",
      " 12300K .......... .......... .......... .......... .......... 78% 4.68M 1s\n",
      " 12350K .......... .......... .......... .......... .......... 78% 4.02M 1s\n",
      " 12400K .......... .......... .......... .......... .......... 79% 4.50M 1s\n",
      " 12450K .......... .......... .......... .......... .......... 79% 3.07M 1s\n",
      " 12500K .......... .......... .......... .......... .......... 79% 6.36M 1s\n",
      " 12550K .......... .......... .......... .......... .......... 80% 5.36M 1s\n",
      " 12600K .......... .......... .......... .......... .......... 80% 5.60M 1s\n",
      " 12650K .......... .......... .......... .......... .......... 80% 4.74M 1s\n",
      " 12700K .......... .......... .......... .......... .......... 81% 5.45M 1s\n",
      " 12750K .......... .......... .......... .......... .......... 81% 4.19M 1s\n",
      " 12800K .......... .......... .......... .......... .......... 81% 1.96M 1s\n",
      " 12850K .......... .......... .......... .......... .......... 81% 3.86M 1s\n",
      " 12900K .......... .......... .......... .......... .......... 82% 4.42M 1s\n",
      " 12950K .......... .......... .......... .......... .......... 82% 4.85M 1s\n",
      " 13000K .......... .......... .......... .......... .......... 82% 6.33M 1s\n",
      " 13050K .......... .......... .......... .......... .......... 83% 5.91M 1s\n",
      " 13100K .......... .......... .......... .......... .......... 83% 5.13M 1s\n",
      " 13150K .......... .......... .......... .......... .......... 83% 3.29M 1s\n",
      " 13200K .......... .......... .......... .......... .......... 84% 5.13M 1s\n",
      " 13250K .......... .......... .......... .......... .......... 84% 4.61M 1s\n",
      " 13300K .......... .......... .......... .......... .......... 84% 6.30M 1s\n",
      " 13350K .......... .......... .......... .......... .......... 85% 4.88M 1s\n",
      " 13400K .......... .......... .......... .......... .......... 85% 6.53M 1s\n",
      " 13450K .......... .......... .......... .......... .......... 85% 5.51M 1s\n",
      " 13500K .......... .......... .......... .......... .......... 86% 4.94M 1s\n",
      " 13550K .......... .......... .......... .......... .......... 86% 3.88M 1s\n",
      " 13600K .......... .......... .......... .......... .......... 86% 3.61M 1s\n",
      " 13650K .......... .......... .......... .......... .......... 87% 2.03M 1s\n",
      " 13700K .......... .......... .......... .......... .......... 87% 3.26M 1s\n",
      " 13750K .......... .......... .......... .......... .......... 87% 4.59M 1s\n",
      " 13800K .......... .......... .......... .......... .......... 88% 5.13M 1s\n",
      " 13850K .......... .......... .......... .......... .......... 88% 3.66M 1s\n",
      " 13900K .......... .......... .......... .......... .......... 88% 6.45M 1s\n",
      " 13950K .......... .......... .......... .......... .......... 88% 3.91M 1s\n",
      " 14000K .......... .......... .......... .......... .......... 89% 5.87M 0s\n",
      " 14050K .......... .......... .......... .......... .......... 89% 4.97M 0s\n",
      " 14100K .......... .......... .......... .......... .......... 89% 4.54M 0s\n",
      " 14150K .......... .......... .......... .......... .......... 90% 4.29M 0s\n",
      " 14200K .......... .......... .......... .......... .......... 90% 4.98M 0s\n",
      " 14250K .......... .......... .......... .......... .......... 90% 3.13M 0s\n",
      " 14300K .......... .......... .......... .......... .......... 91% 3.28M 0s\n",
      " 14350K .......... .......... .......... .......... .......... 91% 4.65M 0s\n",
      " 14400K .......... .......... .......... .......... .......... 91% 4.50M 0s\n",
      " 14450K .......... .......... .......... .......... .......... 92% 4.65M 0s\n",
      " 14500K .......... .......... .......... .......... .......... 92%  761K 0s\n",
      " 14550K .......... .......... .......... .......... .......... 92% 2.39M 0s\n",
      " 14600K .......... .......... .......... .......... .......... 93% 1.33M 0s\n",
      " 14650K .......... .......... .......... .......... .......... 93% 4.11M 0s\n",
      " 14700K .......... .......... .......... .......... .......... 93% 4.39M 0s\n",
      " 14750K .......... .......... .......... .......... .......... 94% 4.10M 0s\n",
      " 14800K .......... .......... .......... .......... .......... 94% 4.42M 0s\n",
      " 14850K .......... .......... .......... .......... .......... 94% 4.96M 0s\n",
      " 14900K .......... .......... .......... .......... .......... 95% 6.13M 0s\n",
      " 14950K .......... .......... .......... .......... .......... 95% 6.12M 0s\n",
      " 15000K .......... .......... .......... .......... .......... 95% 5.24M 0s\n",
      " 15050K .......... .......... .......... .......... .......... 95% 3.64M 0s\n",
      " 15100K .......... .......... .......... .......... .......... 96% 4.39M 0s\n",
      " 15150K .......... .......... .......... .......... .......... 96% 3.59M 0s\n",
      " 15200K .......... .......... .......... .......... .......... 96% 3.17M 0s\n",
      " 15250K .......... .......... .......... .......... .......... 97% 4.37M 0s\n",
      " 15300K .......... .......... .......... .......... .......... 97% 5.11M 0s\n",
      " 15350K .......... .......... .......... .......... .......... 97% 4.50M 0s\n",
      " 15400K .......... .......... .......... .......... .......... 98% 4.10M 0s\n",
      " 15450K .......... .......... .......... .......... .......... 98% 5.60M 0s\n",
      " 15500K .......... .......... .......... .......... .......... 98% 4.32M 0s\n",
      " 15550K .......... .......... .......... .......... .......... 99% 3.00M 0s\n",
      " 15600K .......... .......... .......... .......... .......... 99% 5.08M 0s\n",
      " 15650K .......... .......... .......... .......... .......... 99% 4.88M 0s\n",
      " 15700K .......... .......... .......... ....                 100% 11.5M=4.6s\n",
      "\n",
      "2024-04-09 07:32:04 (3.36 MB/s) - ‘hetionet-v1.0.json.bz2’ saved [16112094/16112094]\n",
      "\n"
     ]
    }
   ],
   "source": [
    "%%bash\n",
    "rm hetionet-v1.0.json.bz2\n",
    "wget https://github.com/hetio/hetionet/raw/main/hetnet/json/hetionet-v1.0.json.bz2"
   ]
  },
  {
   "cell_type": "code",
   "execution_count": 3,
   "id": "b5647890-b25a-468f-b7d0-e497e94813f7",
   "metadata": {},
   "outputs": [
    {
     "name": "stdout",
     "output_type": "stream",
     "text": [
      "upregulates 248670\n",
      "expresses 1052814\n",
      "interacts 294328\n",
      "participates 1629328\n",
      "downregulates 261930\n",
      "causes 277888\n",
      "binds 23142\n",
      "regulates 265672\n",
      "associates 25246\n",
      "covaries 123380\n",
      "localizes 7204\n",
      "resembles 14058\n",
      "treats 1510\n",
      "includes 2058\n",
      "presents 6714\n",
      "palliates 780\n"
     ]
    }
   ],
   "source": [
    "import json\n",
    "import bz2\n",
    "\n",
    "with bz2.open(\"hetionet-v1.0.json.bz2\", 'r') as f:\n",
    "    hetiojson = json.load(f)\n",
    "\n",
    "list(hetiojson.keys())\n",
    "\n",
    "nodes = hetiojson['nodes']\n",
    "edges = hetiojson['edges']\n",
    "\n",
    "node_rels = {}\n",
    "\n",
    "for n in nodes:\n",
    "    rel = n['kind'].replace(' ', '_')\n",
    "    id = n['identifier']\n",
    "    name = n['name']\n",
    "\n",
    "    if rel not in node_rels:\n",
    "        node_rels[rel] = []\n",
    "    \n",
    "    node_rels[rel].append((id, name))\n",
    "\n",
    "node_rels.keys()\n",
    "\n",
    "edge_rels = {}\n",
    "\n",
    "for e in edges:\n",
    "    erel = e['kind']\n",
    "    source = e['source_id'][1]\n",
    "    target = e['target_id'][1]\n",
    "    direction = e['direction']\n",
    "\n",
    "    if erel not in edge_rels:\n",
    "        edge_rels[erel] = []\n",
    "\n",
    "    if direction == 'both':\n",
    "        edge_rels[erel].append((source, target))\n",
    "        edge_rels[erel].append((target, source))\n",
    "    elif direction == 'forward':\n",
    "        edge_rels[erel].append((source, target))\n",
    "    else:\n",
    "        print(f'unknown direction {direction}, canceling!')\n",
    "        break\n",
    "        \n",
    "for k in edge_rels.keys():\n",
    "    print(k, len(edge_rels[k]))"
   ]
  },
  {
   "cell_type": "code",
   "execution_count": 4,
   "id": "5dd9b133-c968-465d-8c79-39f4a9243009",
   "metadata": {},
   "outputs": [
    {
     "name": "stdout",
     "output_type": "stream",
     "text": [
      "Requirement already satisfied: psycopg2-binary in /usr/local/lib/python3.10/dist-packages (2.9.9)\n"
     ]
    },
    {
     "name": "stderr",
     "output_type": "stream",
     "text": [
      "WARNING: Running pip as the 'root' user can result in broken permissions and conflicting behaviour with the system package manager. It is recommended to use a virtual environment instead: https://pip.pypa.io/warnings/venv\n"
     ]
    }
   ],
   "source": [
    "%%bash\n",
    "pip3 install psycopg2-binary"
   ]
  },
  {
   "cell_type": "code",
   "execution_count": 5,
   "id": "cfdf362c-0507-4c6d-a4f1-283946e08660",
   "metadata": {},
   "outputs": [],
   "source": [
    "import psycopg2 as pg\n",
    "from psycopg2 import sql\n",
    "\n",
    "conn = pg.connect(\"host=postgres dbname=hetio user=hetio password=hetio\")\n",
    "cur = conn.cursor()"
   ]
  },
  {
   "cell_type": "code",
   "execution_count": 6,
   "id": "6426156f-cd5f-4653-9165-22b3ce95fc35",
   "metadata": {},
   "outputs": [],
   "source": [
    "try:\n",
    "    for k in node_rels.keys():\n",
    "        s = sql.SQL('CREATE TABLE IF NOT EXISTS {} (nid varchar(64) primary key, name text)').format(sql.Identifier(k.lower()))\n",
    "        cur.execute(s)\n",
    "        for v in node_rels[k]:\n",
    "            cur.execute(sql.SQL('INSERT INTO {} VALUES (%s,%s);').format(sql.Identifier(k.lower())), v)\n",
    "    conn.commit()\n",
    "except Exception as e:\n",
    "    print(e)\n",
    "    print('Failed')\n",
    "    conn.rollback()"
   ]
  },
  {
   "cell_type": "code",
   "execution_count": 7,
   "id": "08df37e7-088a-460f-96a4-2e4df1043d86",
   "metadata": {},
   "outputs": [
    {
     "name": "stdout",
     "output_type": "stream",
     "text": [
      "upregulates\n",
      "Composed([SQL('CREATE TABLE IF NOT EXISTS '), Identifier('upregulates'), SQL(' (sid varchar(64), tid varchar(64))')])\n",
      "expresses\n",
      "Composed([SQL('CREATE TABLE IF NOT EXISTS '), Identifier('expresses'), SQL(' (sid varchar(64), tid varchar(64))')])\n",
      "interacts\n",
      "Composed([SQL('CREATE TABLE IF NOT EXISTS '), Identifier('interacts'), SQL(' (sid varchar(64), tid varchar(64))')])\n",
      "participates\n",
      "Composed([SQL('CREATE TABLE IF NOT EXISTS '), Identifier('participates'), SQL(' (sid varchar(64), tid varchar(64))')])\n",
      "downregulates\n",
      "Composed([SQL('CREATE TABLE IF NOT EXISTS '), Identifier('downregulates'), SQL(' (sid varchar(64), tid varchar(64))')])\n",
      "causes\n",
      "Composed([SQL('CREATE TABLE IF NOT EXISTS '), Identifier('causes'), SQL(' (sid varchar(64), tid varchar(64))')])\n",
      "binds\n",
      "Composed([SQL('CREATE TABLE IF NOT EXISTS '), Identifier('binds'), SQL(' (sid varchar(64), tid varchar(64))')])\n",
      "regulates\n",
      "Composed([SQL('CREATE TABLE IF NOT EXISTS '), Identifier('regulates'), SQL(' (sid varchar(64), tid varchar(64))')])\n",
      "associates\n",
      "Composed([SQL('CREATE TABLE IF NOT EXISTS '), Identifier('associates'), SQL(' (sid varchar(64), tid varchar(64))')])\n",
      "covaries\n",
      "Composed([SQL('CREATE TABLE IF NOT EXISTS '), Identifier('covaries'), SQL(' (sid varchar(64), tid varchar(64))')])\n",
      "localizes\n",
      "Composed([SQL('CREATE TABLE IF NOT EXISTS '), Identifier('localizes'), SQL(' (sid varchar(64), tid varchar(64))')])\n",
      "resembles\n",
      "Composed([SQL('CREATE TABLE IF NOT EXISTS '), Identifier('resembles'), SQL(' (sid varchar(64), tid varchar(64))')])\n",
      "treats\n",
      "Composed([SQL('CREATE TABLE IF NOT EXISTS '), Identifier('treats'), SQL(' (sid varchar(64), tid varchar(64))')])\n",
      "includes\n",
      "Composed([SQL('CREATE TABLE IF NOT EXISTS '), Identifier('includes'), SQL(' (sid varchar(64), tid varchar(64))')])\n",
      "presents\n",
      "Composed([SQL('CREATE TABLE IF NOT EXISTS '), Identifier('presents'), SQL(' (sid varchar(64), tid varchar(64))')])\n",
      "palliates\n",
      "Composed([SQL('CREATE TABLE IF NOT EXISTS '), Identifier('palliates'), SQL(' (sid varchar(64), tid varchar(64))')])\n"
     ]
    }
   ],
   "source": [
    "try:\n",
    "    for k in edge_rels.keys():\n",
    "        print(k)\n",
    "        s = sql.SQL('CREATE TABLE IF NOT EXISTS {} (sid varchar(64), tid varchar(64))').format(sql.Identifier(k))\n",
    "        print(s)\n",
    "        cur.execute(s)\n",
    "        for e in edge_rels[k]:\n",
    "            cur.execute(sql.SQL('INSERT INTO {} VALUES (%s,%s);').format(sql.Identifier(k)), e)\n",
    "        conn.commit()\n",
    "except Exception as e:\n",
    "    print(e)\n",
    "    print('Failed')\n",
    "    conn.rollback()"
   ]
  }
 ],
 "metadata": {
  "kernelspec": {
   "display_name": "Python 3 (ipykernel)",
   "language": "python",
   "name": "python3"
  },
  "language_info": {
   "codemirror_mode": {
    "name": "ipython",
    "version": 3
   },
   "file_extension": ".py",
   "mimetype": "text/x-python",
   "name": "python",
   "nbconvert_exporter": "python",
   "pygments_lexer": "ipython3",
   "version": "3.10.12"
  }
 },
 "nbformat": 4,
 "nbformat_minor": 5
}
